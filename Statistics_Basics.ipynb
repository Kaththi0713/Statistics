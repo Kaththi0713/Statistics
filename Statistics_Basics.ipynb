{
  "nbformat": 4,
  "nbformat_minor": 0,
  "metadata": {
    "colab": {
      "provenance": []
    },
    "kernelspec": {
      "name": "python3",
      "display_name": "Python 3"
    },
    "language_info": {
      "name": "python"
    }
  },
  "cells": [
    {
      "cell_type": "markdown",
      "source": [
        "# **Question 1:** What is the difference between descriptive statistics and inferential statistics? Explain with examples"
      ],
      "metadata": {
        "id": "-1Pz-XZnQxmq"
      }
    },
    {
      "cell_type": "markdown",
      "source": [
        "Statistics is broadly divided into two main branches: descriptive statistics and inferential statistics. Both are essential in data analysis but serve different purposes.\n",
        "\n",
        "**1. Descriptive Statistics**\n",
        "\n",
        "Descriptive statistics involve methods for summarizing and organizing data. It describes the main features of a dataset without making predictions or generalizations.\n",
        "\n",
        "Key Functions:\n",
        "  - Organizes data using tables, graphs, and charts\n",
        "\n",
        "  - Calculates measures such as:\n",
        "  - Mean (average); Median (middle value); Mode (most frequent value); Standard deviation (spread of data)\n",
        "\n",
        "**Example:**\n",
        "\n",
        "  - Suppose a teacher records the marks of 5 students in a test:\n",
        "[85, 90, 78, 92, 88]\n",
        "- Mean = (85 + 90 + 78 + 92 + 88) / 5 = 86.6\n",
        "- Median = 88 (middle value)\n",
        "- Standard Deviation ≈ 5.0 (shows how much scores vary)\n",
        "\n",
        "📌 These values describe the dataset but do not allow conclusions about other students or future exams.\n",
        "\n",
        "**2. Inferential Statistics**\n",
        "\n",
        "Inferential statistics allow us to make predictions or generalizations about a population based on a sample of data.\n",
        "\n",
        "Key Functions:\n",
        "  - Makes predictions and hypotheses\n",
        "  - Uses probability theory\n",
        "\n",
        "Includes:\n",
        "  - Confidence intervals\n",
        "  - Hypothesis testing\n",
        "  - Regression analysis\n",
        "  - ANOVA (Analysis of Variance)\n",
        "\n",
        "**Example:**\n",
        "\n",
        "- A researcher wants to know the average height of college students in India. Measuring all students is impossible, so they select a random sample of 200 students.\n",
        "- The sample mean height is found to be 165 cm.\n",
        "- Using inferential statistics, they estimate the population mean height to be around 165 cm ± 2 cm (confidence interval).\n",
        "\n",
        "📌 Here, the researcher infers about the whole population based on the sample."
      ],
      "metadata": {
        "id": "jL0-UO6wQxjD"
      }
    },
    {
      "cell_type": "markdown",
      "source": [
        "# **Question 2:** What is sampling in statistics? Explain the differences between random and stratified sampling."
      ],
      "metadata": {
        "id": "Yo4VI51QQxgW"
      }
    },
    {
      "cell_type": "markdown",
      "source": [
        "Sampling is the process of selecting a subset (sample) from a larger group (population) to analyze and draw conclusions about the entire population.\n",
        "\n",
        "- Since studying every individual in a population is often impractical, time-consuming, or costly, sampling helps researchers:\n",
        "\n",
        "  - Save time and resources\n",
        "  - Get reasonably accurate results\n",
        "\n",
        "📌 Make predictions or inferences about the population\n",
        "\n",
        "**1. Random Sampling (Simple Random Sampling)**\n",
        "\n",
        "In random sampling, every individual in the population has an equal chance of being selected.\n",
        "\n",
        "Key Features:\n",
        "- Completely unbiased selection\n",
        "- Each sample is equally likely\n",
        "- Best when the population is homogeneous (similar)\n",
        "\n",
        "Example:\n",
        "- You want to select 10 students out of 100 for a survey. You assign numbers to all students and use a random number generator to pick 10 students.\n",
        "\n",
        "Result: Every student has an equal chance of being selected.\n",
        "\n",
        "**2. Stratified Sampling**\n",
        "\n",
        "In stratified sampling, the population is divided into distinct subgroups or \"strata\" (based on characteristics like age, gender, income), and a random sample is taken from each group.\n",
        "\n",
        "- Key Features:\n",
        "  - Ensures representation from all subgroups\n",
        "  - More accurate if population has diversity\n",
        "  - Useful when specific subgroups are important to the study\n",
        "\n",
        "Example:\n",
        "- A college has 500 students: 300 undergraduates; 200 postgraduates\n",
        "- You want to survey 50 students. Using stratified sampling, you select:\n",
        "  30 undergraduates (60% of 50), 20 postgraduates (40% of 50)\n",
        "- Then randomly pick from each group.\n",
        "\n",
        "Result: Both groups are fairly represented in the sample."
      ],
      "metadata": {
        "id": "5OwzxgZeQxdp"
      }
    },
    {
      "cell_type": "markdown",
      "source": [
        "# **Question 3:** Define mean, median, and mode. Explain why these measures of central tendency are important."
      ],
      "metadata": {
        "id": "m2g1XlNVQxbJ"
      }
    },
    {
      "cell_type": "markdown",
      "source": [
        "Measures of central tendency are statistical tools that describe the center or typical value of a dataset. The three main measures are:\n",
        "\n",
        "**1. Mean (Average)**\n",
        "\n",
        "- Definition:\n",
        "The mean is the sum of all the values divided by the number of values.\n",
        "\n",
        "Formula:\n",
        "  - Mean = Sum of all values/Number of values\n",
        "\n",
        "Example:\n",
        "  - For the numbers: 10, 20, 30\n",
        "  - Mean = 10+20+30/3 = 60/3 = 20\n",
        "\n",
        "📌 Importance\n",
        "  - Mean gives an overall average; useful for comparing datasets\n",
        "\n",
        "**2. Median**\n",
        "\n",
        "- Definition:\n",
        "The median is the middle value in a sorted list.\n",
        "\n",
        "  - If the number of values is odd, it’s the middle number. If even, it's the average of the two middle numbers.\n",
        "\n",
        "Example:\n",
        "  - For the numbers: 10, 20, 30 (odd count) → Median = 20\n",
        "  - For: 10, 20, 30, 40 (even count) → Median = (20 + 30) / 2 = 25\n",
        "\n",
        "📌 Importance\n",
        "  - It is not affected by outliers or extreme values (e.g., salaries)\n",
        "\n",
        "**3. Mode**\n",
        "\n",
        "- Definition:\n",
        "The mode is the value that appears most frequently in the dataset.\n",
        "\n",
        "Example:\n",
        "  - In the set: 4, 6, 4, 8, 4, 10 → Mode = 4 (because it appears most)\n",
        "\n",
        "📌 Importance\n",
        "  - Useful for identifying most common value (e.g., shoe size sold most)\n",
        "\n",
        "Note: A dataset can have no mode, one mode, or multiple modes."
      ],
      "metadata": {
        "id": "qApBC4_vQxYo"
      }
    },
    {
      "cell_type": "markdown",
      "source": [
        "# **Question 4:** Explain skewness and kurtosis. What does a positive skew imply about the data?"
      ],
      "metadata": {
        "id": "fLy3gCflQxV9"
      }
    },
    {
      "cell_type": "markdown",
      "source": [
        "**1. Skewness**\n",
        "\n",
        "Definition:\n",
        "Skewness measures the asymmetry of a data distribution around its mean.\n",
        "\n",
        "Symmetric Distribution → Skewness = 0\n",
        "\n",
        "Positive Skew (Right-skewed) → Tail is longer on the right side\n",
        "\n",
        "Negative Skew (Left-skewed) → Tail is longer on the left side\n",
        "\n",
        "📌 Positive Skew (Right Skew)\n",
        "\n",
        "- Most values are concentrated on the left\n",
        "\n",
        "- Few large values pull the mean to the right\n",
        "\n",
        "- Mean > Median > Mode\n",
        "\n",
        "Example:\n",
        "Income distribution is often positively skewed — most people earn average wages, but a few earn very high incomes.\n",
        "\n",
        "**2. Kurtosis**\n",
        "\n",
        "Definition:\n",
        "Kurtosis measures the \"tailedness\" or peakedness of a distribution — how heavily the tails differ from the normal distribution.\n",
        "\n",
        "There are three types:\n",
        "\n",
        "- Type\tDescription\n",
        "\n",
        "  - Mesokurtic\tNormal distribution; kurtosis ≈ 3\n",
        "  - Leptokurtic\tPeaked with fat tails; kurtosis > 3 (more outliers)\n",
        "  - Platykurtic\tFlat with thin tails; kurtosis < 3 (fewer outliers)\n",
        "\n",
        "📌 Why It Matters:\n",
        "Kurtosis helps assess risk in data (e.g., in finance)\n",
        "\n",
        "High kurtosis implies more frequent extreme values"
      ],
      "metadata": {
        "id": "CnYE36NsQxBf"
      }
    },
    {
      "cell_type": "markdown",
      "source": [
        "# **Question 5:** Implement a Python program to compute the mean, median, and mode of a given list of numbers.\n",
        "numbers = [12, 15, 12, 18, 19, 12, 20, 22, 19, 19, 24, 24, 24, 26, 28]"
      ],
      "metadata": {
        "id": "7j9b15V3QwzK"
      }
    },
    {
      "cell_type": "code",
      "execution_count": 1,
      "metadata": {
        "id": "wm6RcyAfQssH",
        "colab": {
          "base_uri": "https://localhost:8080/"
        },
        "outputId": "81579904-e393-4d7d-81c7-0e82e4f1b7b9"
      },
      "outputs": [
        {
          "output_type": "stream",
          "name": "stdout",
          "text": [
            "Mean: 19.6\n",
            "Median: 19\n",
            "Mode: 12\n"
          ]
        }
      ],
      "source": [
        "import statistics\n",
        "\n",
        "# Given list of numbers\n",
        "numbers = [12, 15, 12, 18, 19, 12, 20, 22, 19, 19, 24, 24, 24, 26, 28]\n",
        "\n",
        "# Calculate mean\n",
        "mean = statistics.mean(numbers)\n",
        "\n",
        "# Calculate median\n",
        "median = statistics.median(numbers)\n",
        "\n",
        "# Calculate mode\n",
        "mode = statistics.mode(numbers)\n",
        "\n",
        "# Print results\n",
        "print(\"Mean:\", mean)\n",
        "print(\"Median:\", median)\n",
        "print(\"Mode:\", mode)"
      ]
    },
    {
      "cell_type": "markdown",
      "source": [
        "# **Question 6:** Compute the covariance and correlation coefficient between the following two datasets provided as lists in Python:\n",
        "list_x = [10, 20, 30, 40, 50]\n",
        "list_y = [15, 25, 35, 45, 60]"
      ],
      "metadata": {
        "id": "Ub_bkvwZ-E_x"
      }
    },
    {
      "cell_type": "code",
      "source": [
        "import numpy as np\n",
        "\n",
        "# Given datasets\n",
        "list_x = [10, 20, 30, 40, 50]\n",
        "list_y = [15, 25, 35, 45, 60]\n",
        "\n",
        "# Convert to numpy arrays\n",
        "x = np.array(list_x)\n",
        "y = np.array(list_y)\n",
        "\n",
        "# Compute covariance matrix\n",
        "cov_matrix = np.cov(x, y, bias=False)\n",
        "covariance = cov_matrix[0, 1]\n",
        "\n",
        "# Compute correlation coefficient\n",
        "correlation = np.corrcoef(x, y)[0, 1]\n",
        "\n",
        "# Print results\n",
        "print(\"Covariance:\", covariance)\n",
        "print(\"Correlation Coefficient:\", correlation)"
      ],
      "metadata": {
        "colab": {
          "base_uri": "https://localhost:8080/"
        },
        "id": "-pN-iIjK9Yei",
        "outputId": "7b542407-0995-44aa-d1cf-60f771f51453"
      },
      "execution_count": 2,
      "outputs": [
        {
          "output_type": "stream",
          "name": "stdout",
          "text": [
            "Covariance: 275.0\n",
            "Correlation Coefficient: 0.995893206467704\n"
          ]
        }
      ]
    },
    {
      "cell_type": "markdown",
      "source": [
        "# **Question 7:** Write a Python script to draw a boxplot for the following numeric list and identify its outliers. Explain the result:\n",
        "data = [12, 14, 14, 15, 18, 19, 19, 21, 22, 22, 23, 23, 24, 26, 29, 35]"
      ],
      "metadata": {
        "id": "shxTNqEo_Vjl"
      }
    },
    {
      "cell_type": "code",
      "source": [
        "import matplotlib.pyplot as plt\n",
        "import numpy as np\n",
        "\n",
        "# Given data\n",
        "data = [12, 14, 14, 15, 18, 19, 19, 21, 22, 22, 23, 23, 24, 26, 29, 35]\n",
        "\n",
        "# Create boxplot\n",
        "plt.boxplot(data, vert=False)\n",
        "plt.title(\"Boxplot of Data\")\n",
        "plt.xlabel(\"Value\")\n",
        "plt.grid(True)\n",
        "plt.show()\n",
        "\n",
        "# Identify outliers manually using IQR\n",
        "Q1 = np.percentile(data, 25)  # 1st quartile\n",
        "Q3 = np.percentile(data, 75)  # 3rd quartile\n",
        "IQR = Q3 - Q1                 # Interquartile range\n",
        "\n",
        "# Calculate bounds\n",
        "lower_bound = Q1 - 1.5 * IQR\n",
        "upper_bound = Q3 + 1.5 * IQR\n",
        "\n",
        "# Identify outliers\n",
        "outliers = [x for x in data if x < lower_bound or x > upper_bound]\n",
        "\n",
        "# Print results\n",
        "print(f\"Q1 = {Q1}, Q3 = {Q3}, IQR = {IQR}\")\n",
        "print(f\"Lower Bound = {lower_bound}, Upper Bound = {upper_bound}\")\n",
        "print(\"Outliers:\", outliers)"
      ],
      "metadata": {
        "colab": {
          "base_uri": "https://localhost:8080/",
          "height": 524
        },
        "id": "I8RqSe5-_MTD",
        "outputId": "a77e303e-a765-4887-cb1e-f92c7b51a791"
      },
      "execution_count": 3,
      "outputs": [
        {
          "output_type": "display_data",
          "data": {
            "text/plain": [
              "<Figure size 640x480 with 1 Axes>"
            ],
            "image/png": "[encoded data removed]"
          },
          "metadata": {}
        },
        {
          "output_type": "stream",
          "name": "stdout",
          "text": [
            "Q1 = 17.25, Q3 = 23.25, IQR = 6.0\n",
            "Lower Bound = 8.25, Upper Bound = 32.25\n",
            "Outliers: [35]\n"
          ]
        }
      ]
    },
    {
      "cell_type": "markdown",
      "source": [
        "# **Question 8:** You are working as a data analyst in an e-commerce company. The marketing team wants to know if there is a relationship between advertising spend and daily sales.\n",
        "● Explain how you would use covariance and correlation to explore this\n",
        "relationship.\n",
        "\n",
        "● Write Python code to compute the correlation between the two lists:\n",
        "\n",
        "advertising_spend = [200, 250, 300, 400, 500]\n",
        "daily_sales = [2200, 2450, 2750, 3200, 4000]\n"
      ],
      "metadata": {
        "id": "qORfVus7ACvZ"
      }
    },
    {
      "cell_type": "markdown",
      "source": [
        "📌 As a data analyst, to explore the relationship between advertising spend and daily sales, you would use:\n",
        "\n",
        "**1. Covariance**\n",
        "\n",
        "- Tells the direction of the relationship.\n",
        "\n",
        "- Positive covariance: As advertising spend increases, daily sales tend to increase.\n",
        "\n",
        "- Negative covariance: As advertising spend increases, sales decrease.\n",
        "\n",
        "Limitation: Covariance does not indicate strength of the relationship or consistency in scale.\n",
        "\n",
        "**2. Correlation Coefficient (Pearson's r)**\n",
        "\n",
        "- Measures both direction and strength of the relationship.\n",
        "\n",
        "- Value ranges from −1 to +1:\n",
        "\n",
        "  - +1: Perfect positive linear relationship\n",
        "\n",
        "  - 0: No linear relationship\n",
        "\n",
        "  - −1: Perfect negative linear relationship\n",
        "\n",
        "Correlation is scale-independent, making it more interpretable than covariance."
      ],
      "metadata": {
        "id": "LcC__U3xAb6C"
      }
    },
    {
      "cell_type": "code",
      "source": [
        "import numpy as np\n",
        "\n",
        "# Given data\n",
        "advertising_spend = [200, 250, 300, 400, 500]\n",
        "daily_sales = [2200, 2450, 2750, 3200, 4000]\n",
        "\n",
        "# Convert to numpy arrays\n",
        "x = np.array(advertising_spend)\n",
        "y = np.array(daily_sales)\n",
        "\n",
        "# Compute covariance\n",
        "cov_matrix = np.cov(x, y, bias=False)\n",
        "covariance = cov_matrix[0, 1]\n",
        "\n",
        "# Compute correlation coefficient\n",
        "correlation = np.corrcoef(x, y)[0, 1]\n",
        "\n",
        "# Print results\n",
        "print(\"Covariance:\", covariance)\n",
        "print(\"Correlation Coefficient:\", correlation)"
      ],
      "metadata": {
        "colab": {
          "base_uri": "https://localhost:8080/"
        },
        "id": "RXOxMHY0_mVP",
        "outputId": "187a1e7f-8ac1-471b-9443-15f28e7e0afc"
      },
      "execution_count": 4,
      "outputs": [
        {
          "output_type": "stream",
          "name": "stdout",
          "text": [
            "Covariance: 84875.0\n",
            "Correlation Coefficient: 0.9935824101653329\n"
          ]
        }
      ]
    },
    {
      "cell_type": "markdown",
      "source": [
        "# **Question 9:** Your team has collected customer satisfaction survey data on a scale of 1-10 and wants to understand its distribution before launching a new product.\n",
        "● Explain which summary statistics and visualizations (e.g. mean, standard\n",
        "deviation, histogram) you’d use.\n",
        "\n",
        "● Write Python code to create a histogram using Matplotlib for the survey data:\n",
        "survey_scores = [7, 8, 5, 9, 6, 7, 8, 9, 10, 4, 7, 6, 9, 8, 7]"
      ],
      "metadata": {
        "id": "Tv1-R89dA2FR"
      }
    },
    {
      "cell_type": "markdown",
      "source": [
        "📌 Understanding Customer Satisfaction Survey Data (1–10 Scale)\n",
        "\n",
        "Before launching a new product, it's important to understand how satisfied your customers are. Analyzing the survey data can help you identify the general level of satisfaction, how consistent responses are, and whether there are any unusually high or low scores that need attention.\n",
        "\n",
        "**Summary statistics you should use:**\n",
        "\n",
        "- **Mean:** This is the average satisfaction score. It tells you the overall tendency of the responses.\n",
        "\n",
        "- **Median:** This is the middle score when the data is sorted. It's useful because it’s not affected by extreme scores (outliers).\n",
        "\n",
        "- **Mode:** The score that appears most frequently. This helps identify the most common opinion among customers.\n",
        "\n",
        "- **Standard Deviation:** This shows how much the scores vary from the mean. A low standard deviation means most scores are close to the average.\n",
        "\n",
        "- **Minimum and Maximum:** These give you the range of the data, showing the lowest and highest scores received.\n",
        "\n",
        "**Visualizations you can use:**\n",
        "\n",
        "- **Histogram:** This graph shows how scores are distributed across intervals. It helps you see patterns like skewness or concentration of responses.\n",
        "\n",
        "- **Boxplot:** A compact summary showing the median, quartiles, and any outliers in your data.\n",
        "\n",
        "- **Bar Chart:** Since the scores are discrete (1–10), a bar chart can show the exact frequency of each score clearly."
      ],
      "metadata": {
        "id": "J-jvHCmdBuo4"
      }
    },
    {
      "cell_type": "code",
      "source": [
        "import matplotlib.pyplot as plt\n",
        "import statistics\n",
        "\n",
        "# Survey scores data\n",
        "survey_scores = [7, 8, 5, 9, 6, 7, 8, 9, 10, 4, 7, 6, 9, 8, 7]\n",
        "\n",
        "# Summary statistics\n",
        "mean = statistics.mean(survey_scores)\n",
        "median = statistics.median(survey_scores)\n",
        "mode = statistics.mode(survey_scores)\n",
        "stdev = statistics.stdev(survey_scores)\n",
        "\n",
        "# Print summary\n",
        "print(\"Mean:\", mean)\n",
        "print(\"Median:\", median)\n",
        "print(\"Mode:\", mode)\n",
        "print(\"Standard Deviation:\", stdev)\n",
        "\n",
        "# Plot histogram\n",
        "plt.hist(survey_scores, bins=7, edgecolor='black')\n",
        "plt.title(\"Customer Satisfaction Survey Scores\")\n",
        "plt.xlabel(\"Score (1–10)\")\n",
        "plt.ylabel(\"Frequency\")\n",
        "plt.grid(True, linestyle='--', alpha=0.6)\n",
        "plt.show()"
      ],
      "metadata": {
        "colab": {
          "base_uri": "https://localhost:8080/",
          "height": 541
        },
        "id": "-q3kz0gkAxJS",
        "outputId": "8e4d8a6d-5381-424a-bf5a-fc7b3ecfb848"
      },
      "execution_count": 5,
      "outputs": [
        {
          "output_type": "stream",
          "name": "stdout",
          "text": [
            "Mean: 7.333333333333333\n",
            "Median: 7\n",
            "Mode: 7\n",
            "Standard Deviation: 1.632993161855452\n"
          ]
        },
        {
          "output_type": "display_data",
          "data": {
            "text/plain": [
              "<Figure size 640x480 with 1 Axes>"
            ],
            "image/png": "[encoded data removed]"
          },
          "metadata": {}
        }
      ]
    },
    {
      "cell_type": "code",
      "source": [],
      "metadata": {
        "id": "uogx9BsACsQh"
      },
      "execution_count": null,
      "outputs": []
    }
  ]
}