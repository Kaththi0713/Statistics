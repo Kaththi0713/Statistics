{
  "nbformat": 4,
  "nbformat_minor": 0,
  "metadata": {
    "colab": {
      "provenance": []
    },
    "kernelspec": {
      "name": "python3",
      "display_name": "Python 3"
    },
    "language_info": {
      "name": "python"
    }
  },
  "cells": [
    {
      "cell_type": "markdown",
      "source": [
        "# **Question 1:** What is hypothesis testing in statistics?"
      ],
      "metadata": {
        "id": "LdG0eaq-ueYc"
      }
    },
    {
      "cell_type": "markdown",
      "source": [
        "* Hypothesis testing is a fundamental concept in statistics used to make decisions or draw conclusions about a population based on sample data.\n",
        "\n",
        "**Definition:**\n",
        "\n",
        "Hypothesis testing is a statistical method used to decide whether there is enough evidence in a sample of data to support a certain belief (called a hypothesis) about the population.\n",
        "\n",
        "*In Simple Terms:*\n",
        "\n",
        "It's like making an assumption and then using data to check if that assumption is likely to be true or not.\n",
        "\n",
        "✅ Key Components:\n",
        "\n",
        "* Null Hypothesis (H₀): The default assumption (e.g., \"There is no difference\").\n",
        "\n",
        "* Alternative Hypothesis (H₁): What you want to prove (e.g., \"There is a difference\").\n",
        "\n",
        "* Test Statistic: A value calculated from the sample data.\n",
        "\n",
        "* P-value: Helps you decide whether to reject H₀.\n",
        "\n",
        "* Decision: Based on the p-value, accept or reject the null hypothesis.\n",
        "\n",
        "**Example:**\n",
        "\n",
        "Suppose a company claims that its bulb lasts 1000 hours on average. You take a sample and test if that claim is true:\n",
        "\n",
        "* H₀: Mean = 1000 hours\n",
        "\n",
        "* H₁: Mean ≠ 1000 hours\n",
        "\n",
        "You collect data, run a hypothesis test, and decide if there's enough evidence to challenge the claim.\n",
        "\n",
        "**Summary (One-line):**\n",
        "\n",
        "Hypothesis testing is a process of using sample data to test assumptions about a population parameter."
      ],
      "metadata": {
        "id": "84pZCg4dueVF"
      }
    },
    {
      "cell_type": "markdown",
      "source": [
        "# **Question 2:** What is the null hypothesis, and how does it differ from the alternative hypothesis?"
      ],
      "metadata": {
        "id": "w8chUhl-ueSl"
      }
    },
    {
      "cell_type": "markdown",
      "source": [
        "✅ In hypothesis testing, we always work with two hypotheses:\n",
        "\n",
        "**Null Hypothesis (H₀)**\n",
        "\n",
        "* It is the default statement or assumption.\n",
        "\n",
        "* It assumes that there is no effect, no difference, or no change.\n",
        "\n",
        "* It represents the status quo or the claim that nothing new is happening.\n",
        "\n",
        "Example: The average weight of apples is 100 grams. (H₀: μ = 100)\n",
        "\n",
        "**Alternative Hypothesis (H₁ or Ha)**\n",
        "\n",
        "* It is the opposite of the null hypothesis.\n",
        "\n",
        "* It states that there is an effect, difference, or change.\n",
        "\n",
        "* This is what the researcher actually wants to prove or support.\n",
        "\n",
        "Example: The average weight of apples is not 100 grams. (H₁: μ ≠ 100)\n",
        "\n",
        "  * The null hypothesis (H₀) is the default assumption in statistics which states that there is no difference, no effect, or no change in the population. It represents the idea that nothing new or unexpected is happening. Researchers begin by assuming the null hypothesis is true, and the goal of hypothesis testing is to use sample data to see if this assumption should be rejected.\n",
        "\n",
        "  * On the other hand, the alternative hypothesis (H₁ or Ha) is the statement that contradicts the null hypothesis. It claims that there is a difference or some kind of effect. This is usually what the researcher actually wants to prove.\n",
        "\n",
        "**In simple terms:**\n",
        "\n",
        "The null hypothesis says: \"There is no change or effect.\"\n",
        "\n",
        "The alternative hypothesis says: \"There is some change or effect.\"\n",
        "\n",
        "  * For example, if a company claims their batteries last exactly 5 hours, the null hypothesis would state that the average battery life is 5 hours. The alternative hypothesis would suggest that the average battery life is not 5 hours (either more or less)."
      ],
      "metadata": {
        "id": "1oF2eXnJueQH"
      }
    },
    {
      "cell_type": "markdown",
      "source": [
        "# **Question 3:** Explain the significance level in hypothesis testing and its role in deciding the outcome of a test."
      ],
      "metadata": {
        "id": "ZXI0e3AtueNr"
      }
    },
    {
      "cell_type": "markdown",
      "source": [
        "✅ **Significance Level in Hypothesis Testing and Its Role in Decision Making**\n",
        "\n",
        "In hypothesis testing, the significance level (denoted by α, alpha) is a threshold chosen by the researcher before conducting the test. It represents the probability of making a Type I error, i.e., rejecting the null hypothesis when it is actually true. In simple words, it is the maximum chance of being wrong that the researcher is willing to accept when claiming that a result is statistically significant.\n",
        "\n",
        "* Common values of significance level are 0.05, 0.01, or 0.10.\n",
        "  * For example, a significance level of 0.05 means the researcher is willing to accept a 5% risk of concluding that a difference or effect exists when it actually does not.\n",
        "\n",
        "The significance level acts as a cut-off point to compare with the p-value obtained from the statistical test. After the test is performed:\n",
        "\n",
        "* If the p-value is less than or equal to the significance level, it means the result is statistically significant, and the null hypothesis is rejected.\n",
        "\n",
        "* If the p-value is greater than the significance level, the result is not statistically significant, and the null hypothesis is not rejected.\n",
        "\n",
        "Thus, the significance level helps in deciding whether the evidence from the sample is strong enough to reject the null hypothesis. It also controls the likelihood of making a false positive conclusion.\n",
        "\n",
        "✅ **Conclusion**\n",
        "\n",
        "* The significance level is important because it sets a predefined standard for making objective decisions in hypothesis testing. It helps the researcher determine how strong the evidence must be in order to reject the null hypothesis and ensures that the decision is made with a known, controlled risk of error."
      ],
      "metadata": {
        "id": "8MTlkgE2ueLK"
      }
    },
    {
      "cell_type": "markdown",
      "source": [
        "# **Question 4:** What are Type I and Type II errors? Give examples of each."
      ],
      "metadata": {
        "id": "RTK0pCt0ueIv"
      }
    },
    {
      "cell_type": "markdown",
      "source": [
        "✅ **Type I and Type II Errors**\n",
        "\n",
        "In hypothesis testing, we make decisions based on sample data, but sometimes these decisions can be wrong. The two kinds of possible mistakes are called Type I error and Type II error.\n",
        "\n",
        "✅ **Type I Error (False Positive)**\n",
        "\n",
        "A Type I error occurs when the null hypothesis is actually true, but we reject it. This means we conclude that there is an effect or difference when in reality, there isn't. It is also known as a false positive.\n",
        "The probability of making a Type I error is equal to the significance level α (alpha).\n",
        "\n",
        "*Example of Type I Error:*\n",
        "\n",
        "* Suppose a medical test is used to check if a person has a disease. The null hypothesis is that the person is healthy. If the test wrongly indicates that the person has the disease even though they are actually healthy, that is a Type I error.\n",
        "\n",
        "✅ **Type II Error (False Negative)**\n",
        "\n",
        "A Type II error occurs when the null hypothesis is actually false, but we fail to reject it. This means there actually is an effect or difference, but the test fails to detect it. This is called a false negative.\n",
        "The probability of making a Type II error is denoted by β (beta).\n",
        "\n",
        "*Example of Type II Error:*\n",
        "\n",
        "* Again consider a medical test. The null hypothesis says the person is healthy. If the test fails to detect the disease and shows the result as normal, even though the person actually has the disease, that is a Type II error.\n",
        "\n",
        "**Summary in Words:**\n",
        "\n",
        "**Type I error:** Rejecting a true null hypothesis. (You think something is happening, but it's not.)\n",
        "\n",
        "**Type II error:** Not rejecting a false null hypothesis. (Something is happening, but you fail to detect it.)"
      ],
      "metadata": {
        "id": "WfFuzVfCueGa"
      }
    },
    {
      "cell_type": "markdown",
      "source": [
        "# **Question 5:** What is the difference between a Z-test and a T-test? Explain when to use each."
      ],
      "metadata": {
        "id": "fDy6l7YmueD5"
      }
    },
    {
      "cell_type": "markdown",
      "source": [
        "✅ *Difference Between Z-test and T-test and When to Use Them*\n",
        "\n",
        "* Both Z-test and T-test are statistical tests used to compare a sample mean with a population mean or to compare means between two samples. The main difference lies in the sample size and the information we have about the population.\n",
        "\n",
        "✅ **Z-test**\n",
        "\n",
        "A Z-test is used when the sample size is large (usually n ≥ 30) and when the population standard deviation (σ) is known. It is based on the standard normal distribution. Since large samples follow the normal distribution by the Central Limit Theorem, the Z-test becomes reliable under these conditions. It is commonly used in large-scale studies like quality control, industrial testing, and finance.\n",
        "\n",
        "**When to use Z-test:**\n",
        "\n",
        "* Sample size is 30 or more.\n",
        "\n",
        "* Population variance or population standard deviation is known.\n",
        "\n",
        "* Data is approximately normally distributed.\n",
        "\n",
        "✅ **T-test**\n",
        "\n",
        "A T-test is used when the sample size is small (n < 30) and the population standard deviation is unknown. Instead of σ, we use the sample standard deviation (s) to estimate it. The test statistic follows the t-distribution, which has heavier tails to account for more uncertainty with small samples. T-tests are often used in research, experiments, or academic studies where collecting large samples is difficult.\n",
        "\n",
        "**When to use T-test:**\n",
        "\n",
        "* Sample size is less than 30.\n",
        "\n",
        "* Population standard deviation is unknown.\n",
        "\n",
        "* Data is approximately normally distributed.\n",
        "\n",
        "  * Common in student experiments, clinical trials, small surveys.\n",
        "\n",
        "**Conclusion**\n",
        "\n",
        "* In summary, the Z-test is appropriate for large samples with known population standard deviation, while the T-test is suitable for small samples with unknown population standard deviation. Both methods test similar things, but the choice depends mainly on sample size and whether the population variance is known."
      ],
      "metadata": {
        "id": "GtgZs9QBd2wW"
      }
    },
    {
      "cell_type": "markdown",
      "source": [
        "# **Question 6:** Write a Python program to generate a binomial distribution with n=10 and p=0.5, then plot its histogram."
      ],
      "metadata": {
        "id": "JLf8yLJ7d_71"
      }
    },
    {
      "cell_type": "code",
      "execution_count": 1,
      "metadata": {
        "id": "l5RtFTrcuU6f",
        "colab": {
          "base_uri": "https://localhost:8080/",
          "height": 472
        },
        "outputId": "abfa6998-2a15-4d04-9f86-320eaed70621"
      },
      "outputs": [
        {
          "output_type": "display_data",
          "data": {
            "text/plain": [
              "<Figure size 640x480 with 1 Axes>"
            ],
            "image/png": "[encoded data removed]"
          },
          "metadata": {}
        }
      ],
      "source": [
        "import numpy as np\n",
        "import matplotlib.pyplot as plt\n",
        "\n",
        "# Parameters\n",
        "n = 10        # number of trials\n",
        "p = 0.5       # probability of success\n",
        "size = 1000   # number of random values to generate\n",
        "\n",
        "# Generate binomial distribution\n",
        "binomial_data = np.random.binomial(n, p, size)\n",
        "\n",
        "# Plot histogram\n",
        "plt.hist(binomial_data, bins=range(n+2), edgecolor='black')\n",
        "plt.title(\"Binomial Distribution (n=10, p=0.5)\")\n",
        "plt.xlabel(\"Number of Successes\")\n",
        "plt.ylabel(\"Frequency\")\n",
        "plt.show()"
      ]
    },
    {
      "cell_type": "markdown",
      "source": [
        "# **Question 7:** Implement hypothesis testing using Z-statistics for a sample dataset in Python. Show the Python code and interpret the results.\n",
        "\n",
        "* sample_data = [49.1, 50.2, 51.0, 48.7, 50.5, 49.8, 50.3, 50.7, 50.2, 49.6, 50.1, 49.9, 50.8, 50.4, 48.9, 50.6, 50.0, 49.7, 50.2, 49.5, 50.1, 50.3, 50.4, 50.5, 50.0, 50.7, 49.3, 49.8, 50.2, 50.9, 50.3, 50.4, 50.0, 49.7, 50.5, 49.9]"
      ],
      "metadata": {
        "id": "bltmLsXcegmi"
      }
    },
    {
      "cell_type": "code",
      "source": [
        "import numpy as np\n",
        "from scipy.stats import norm\n",
        "\n",
        "# Sample data\n",
        "sample_data = [49.1, 50.2, 51.0, 48.7, 50.5, 49.8, 50.3, 50.7, 50.2, 49.6,\n",
        "               50.1, 49.9, 50.8, 50.4, 48.9, 50.6, 50.0, 49.7, 50.2, 49.5,\n",
        "               50.1, 50.3, 50.4, 50.5, 50.0, 50.7, 49.3, 49.8, 50.2, 50.9,\n",
        "               50.3, 50.4, 50.0, 49.7, 50.5, 49.9]\n",
        "\n",
        "# Convert list to numpy array\n",
        "data = np.array(sample_data)\n",
        "\n",
        "# Assumed population mean and standard deviation\n",
        "mu = 50         # population mean\n",
        "sigma = 1       # population standard deviation (assumed)\n",
        "\n",
        "# Calculate sample mean and sample size\n",
        "sample_mean = np.mean(data)\n",
        "n = len(data)\n",
        "\n",
        "# Calculate Z-statistic\n",
        "z_stat = (sample_mean - mu) / (sigma / np.sqrt(n))\n",
        "\n",
        "# Calculate p-value (two-tailed test)\n",
        "p_value = 2 * (1 - norm.cdf(abs(z_stat)))\n",
        "\n",
        "print(\"Sample Mean:\", sample_mean)\n",
        "print(\"Z-statistic:\", z_stat)\n",
        "print(\"P-value:\", p_value)"
      ],
      "metadata": {
        "colab": {
          "base_uri": "https://localhost:8080/"
        },
        "id": "chnGQSWAeYSW",
        "outputId": "211c2651-d4fd-4f55-cdbc-9252bffb1a44"
      },
      "execution_count": 2,
      "outputs": [
        {
          "output_type": "stream",
          "name": "stdout",
          "text": [
            "Sample Mean: 50.08888888888889\n",
            "Z-statistic: 0.5333333333333314\n",
            "P-value: 0.5938028572077036\n"
          ]
        }
      ]
    },
    {
      "cell_type": "markdown",
      "source": [
        "**Interpretation:**\n",
        "\n",
        "* The Z-statistic is small and the p-value is large (greater than 0.05).\n",
        "\n",
        "* This means the difference between the sample mean and the population mean of 50 is not statistically significant.\n",
        "\n",
        "**Conclusion:** We fail to reject the null hypothesis. The sample does not provide enough evidence to say that its mean is different from 50."
      ],
      "metadata": {
        "id": "0CMagpsEfAGp"
      }
    },
    {
      "cell_type": "markdown",
      "source": [
        "# **Question 8:** Write a Python script to simulate data from a normal distribution and calculate the 95% confidence interval for its mean. Plot the data using Matplotlib."
      ],
      "metadata": {
        "id": "qnmauVGEfJKa"
      }
    },
    {
      "cell_type": "code",
      "source": [
        "import numpy as np\n",
        "import matplotlib.pyplot as plt\n",
        "from scipy.stats import norm\n",
        "\n",
        "# Step 1: Generate data from a normal distribution\n",
        "np.random.seed(0)  # for reproducibility\n",
        "mu = 100           # true mean\n",
        "sigma = 15         # true standard deviation\n",
        "n = 200            # sample size\n",
        "\n",
        "data = np.random.normal(mu, sigma, n)\n",
        "\n",
        "# Step 2: Calculate sample statistics\n",
        "sample_mean = np.mean(data)\n",
        "sample_std = np.std(data, ddof=1)  # sample standard deviation\n",
        "standard_error = sample_std / np.sqrt(n)\n",
        "\n",
        "# Step 3: Calculate 95% confidence interval\n",
        "z_value = 1.96  # for 95% confidence\n",
        "lower_bound = sample_mean - z_value * standard_error\n",
        "upper_bound = sample_mean + z_value * standard_error\n",
        "\n",
        "# Print results\n",
        "print(\"Sample Mean:\", sample_mean)\n",
        "print(\"95% Confidence Interval: (\", lower_bound, \",\", upper_bound, \")\")\n",
        "\n",
        "# Step 4: Plot histogram\n",
        "plt.hist(data, bins=20, edgecolor='black')\n",
        "plt.title(\"Simulated Normal Distribution\")\n",
        "plt.xlabel(\"Value\")\n",
        "plt.ylabel(\"Frequency\")\n",
        "plt.show()"
      ],
      "metadata": {
        "colab": {
          "base_uri": "https://localhost:8080/",
          "height": 507
        },
        "id": "Juwfkfk6e-bq",
        "outputId": "e0f04a4e-e2c4-4c18-eec0-58b544c93460"
      },
      "execution_count": 3,
      "outputs": [
        {
          "output_type": "stream",
          "name": "stdout",
          "text": [
            "Sample Mean: 101.06365739711742\n",
            "95% Confidence Interval: ( 98.93489923201469 , 103.19241556222016 )\n"
          ]
        },
        {
          "output_type": "display_data",
          "data": {
            "text/plain": [
              "<Figure size 640x480 with 1 Axes>"
            ],
            "image/png": "[encoded data removed]"
          },
          "metadata": {}
        }
      ]
    },
    {
      "cell_type": "markdown",
      "source": [
        "# **Question 9:** Write a Python function to calculate the Z-scores from a dataset and visualize the standardized data using a histogram.\n",
        "\n",
        "* Explain what the Z-scores represent in terms of standard deviations from the mean."
      ],
      "metadata": {
        "id": "7-aU3dkMgqkD"
      }
    },
    {
      "cell_type": "code",
      "source": [
        "import numpy as np\n",
        "import matplotlib.pyplot as plt\n",
        "\n",
        "def calculate_z_scores(data):\n",
        "    mean = np.mean(data)\n",
        "    std_dev = np.std(data)\n",
        "    z_scores = (data - mean) / std_dev\n",
        "    return z_scores\n",
        "\n",
        "# Sample dataset (you can replace this with your own list)\n",
        "data = [12, 15, 18, 20, 22, 19, 17, 16, 21, 25, 30, 14, 13, 19, 18]\n",
        "\n",
        "# Calculate Z-scores\n",
        "z_scores = calculate_z_scores(np.array(data))\n",
        "\n",
        "# Print the z-scores\n",
        "print(\"Z-scores:\", z_scores)\n",
        "\n",
        "# Plot histogram of standardized data\n",
        "plt.hist(z_scores, bins=10, edgecolor='black')\n",
        "plt.title(\"Histogram of Z-scores (Standardized Data)\")\n",
        "plt.xlabel(\"Z-score\")\n",
        "plt.ylabel(\"Frequency\")\n",
        "plt.show()"
      ],
      "metadata": {
        "colab": {
          "base_uri": "https://localhost:8080/",
          "height": 524
        },
        "id": "NHNYMRfTfgbn",
        "outputId": "10616ad5-6395-4c46-8c09-757b035438a2"
      },
      "execution_count": 4,
      "outputs": [
        {
          "output_type": "stream",
          "name": "stdout",
          "text": [
            "Z-scores: [-1.452744   -0.79240582 -0.13206764  0.30815782  0.74838327  0.08804509\n",
            " -0.35218036 -0.57229309  0.52827054  1.40872145  2.50928508 -1.01251854\n",
            " -1.23263127  0.08804509 -0.13206764]\n"
          ]
        },
        {
          "output_type": "display_data",
          "data": {
            "text/plain": [
              "<Figure size 640x480 with 1 Axes>"
            ],
            "image/png": "[encoded data removed]"
          },
          "metadata": {}
        }
      ]
    },
    {
      "cell_type": "markdown",
      "source": [
        "**Explanation:**\n",
        "\n",
        "A Z-score tells you how far a data point is from the mean of the dataset, measured in standard deviations.\n",
        "\n",
        "* If a Z-score is 0, it means the value is exactly equal to the mean.\n",
        "\n",
        "* A positive Z-score (e.g., +1.5) means the value is above the mean by 1.5 standard deviations.\n",
        "\n",
        "* A negative Z-score (e.g., -2) means the value is below the mean by 2 standard deviations.\n",
        "\n",
        "So Z-scores help to standardize different data points and compare them on the same scale, regardless of the original units. It’s a way of saying: “How unusual is this value compared to the rest of the data?”"
      ],
      "metadata": {
        "id": "Xmb05GJkhBJf"
      }
    }
  ]
}