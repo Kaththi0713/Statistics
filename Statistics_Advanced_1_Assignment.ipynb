{
  "nbformat": 4,
  "nbformat_minor": 0,
  "metadata": {
    "colab": {
      "provenance": []
    },
    "kernelspec": {
      "name": "python3",
      "display_name": "Python 3"
    },
    "language_info": {
      "name": "python"
    }
  },
  "cells": [
    {
      "cell_type": "markdown",
      "source": [
        "# **Question 1:** What is a random variable in probability theory?"
      ],
      "metadata": {
        "id": "K_yxzdUJArL6"
      }
    },
    {
      "cell_type": "markdown",
      "source": [
        "**Definition:**\n",
        "\n",
        "A random variable is a function that assigns a numerical value to each outcome in a sample space.\n",
        "\n",
        "Types of Random Variables:\n",
        "\n",
        "* Discrete Random Variable:\n",
        "\n",
        "  * Takes on a countable number of values.\n",
        "\n",
        "  * **Example:** The result of rolling a die (values: 1, 2, 3, 4, 5, 6).\n",
        "\n",
        "* Continuous Random Variable:\n",
        "\n",
        "  * Takes on uncountably infinite values, typically any value within a range or interval.\n",
        "\n",
        "  * **Example:** The time it takes for a student to finish an exam (e.g., 1.5 hours, 1.75 hours).\n",
        "\n",
        "Examples:\n",
        "\n",
        "* Let 𝑋 be the random variable representing the number of heads in 3 coin tosses.\n",
        "\n",
        "  * Possible outcomes: HHH, HHT, HTH, THH, HTT, THT, TTH, TTT\n",
        "\n",
        "  * 𝑋 can take values: 0, 1, 2, 3\n",
        "\n",
        "* Let 𝑌 be the random variable representing the height of a randomly selected adult.\n",
        "\n",
        "  * 𝑌 can take on values like 160.5 cm, 175.3 cm, etc.\n",
        "\n",
        "**Key Point:**\n",
        "\n",
        "A random variable links outcomes of a random process to numbers so that we can apply mathematical and statistical tools to analyze them."
      ],
      "metadata": {
        "id": "yaCCvW2xArIc"
      }
    },
    {
      "cell_type": "markdown",
      "source": [
        "# **Question 2:** What are the types of random variables?"
      ],
      "metadata": {
        "id": "qcrWBXS_ArFy"
      }
    },
    {
      "cell_type": "markdown",
      "source": [
        "📌 In probability theory, random variables are mainly classified into two types based on the kind of values they can take:\n",
        "\n",
        "1. Discrete Random Variable\n",
        "\n",
        "* **Definition:** A random variable that can take only countable values (finite or countably infinite).\n",
        "\n",
        "**Examples:**\n",
        "\n",
        "* Number of heads in 5 coin tosses → {0, 1, 2, 3, 4, 5}\n",
        "\n",
        "* Number of students present in class\n",
        "\n",
        "* Probability Distribution: Described by a Probability Mass Function (PMF).\n",
        "\n",
        "2. Continuous Random Variable\n",
        "\n",
        "* **Definition:** A random variable that can take any value in a given range (uncountably infinite).\n",
        "\n",
        "**Examples:**\n",
        "\n",
        "* Height of a person (e.g., 165.3 cm, 170.2 cm)\n",
        "\n",
        "* Time taken to run a marathon\n",
        "\n",
        "* Probability Distribution: Described by a Probability Density Function (PDF)."
      ],
      "metadata": {
        "id": "jTqbGvcUArC_"
      }
    },
    {
      "cell_type": "markdown",
      "source": [
        "# **Question 3:** Explain the difference between discrete and continuous distributions."
      ],
      "metadata": {
        "id": "eNrUQhHlArAL"
      }
    },
    {
      "cell_type": "markdown",
      "source": [
        "📌 In statistics, a distribution describes how the values of a variable are spread or arranged. Distributions can be discrete or continuous, depending on the type of variable.\n",
        "\n",
        "**1. Discrete Distribution**\n",
        "\n",
        "* A discrete distribution describes variables that can take only specific, separate values — usually whole numbers.\n",
        "\n",
        "* The possible values are countable (finite or infinite countable).\n",
        "\n",
        "* **Examples:** number of students in a class, number of cars in a parking lot, number of calls received in an hour.\n",
        "\n",
        "* Probability is assigned to individual values.\n",
        "\n",
        "* Example: Rolling a six-sided die\n",
        "  * Possible outcomes: 1, 2, 3, 4, 5, 6\n",
        "  * You can assign probabilities to each outcome, e.g., P(roll=3)= 61.\n",
        "\n",
        "**2. Continuous Distribution**\n",
        "\n",
        "* A continuous distribution describes variables that can take any value within a range.\n",
        "\n",
        "* The possible values are uncountable and include decimals.\n",
        "\n",
        "* **Examples:** height of people, weight of a product, time taken to complete a task.\n",
        "\n",
        "* Probability is assigned to intervals, not individual points (since the probability of exactly one point is zero).\n",
        "\n",
        "* **Example:** Height of adult males in a city\n",
        "\n",
        "  * Possible values: any real number between, say, 150 cm and 200 cm\n",
        "  * You might find P(170 ≤ height ≤ 180), not P(height=175).\n",
        "\n",
        "**In Simple Terms:**\n",
        "\n",
        "  * Discrete = countable steps (like counting apples).\n",
        "\n",
        "  * Continuous = infinite possibilities in a range (like measuring water in liters)."
      ],
      "metadata": {
        "id": "gD-FLkdaAq9l"
      }
    },
    {
      "cell_type": "markdown",
      "source": [
        "# **Question 4:** What is a binomial distribution, and how is it used in probability?"
      ],
      "metadata": {
        "id": "mi-Aa-iPAq61"
      }
    },
    {
      "cell_type": "markdown",
      "source": [
        "**Definition and Use in Probability**\n",
        "\n",
        "The binomial distribution is a probability distribution that models the number of successes in a fixed number of independent trials, where each trial has only two possible outcomes — success or failure.\n",
        "\n",
        "**Key Characteristics:**\n",
        "\n",
        "* Fixed Number of Trials (n) – The number of experiments is predetermined.\n",
        "\n",
        "* Two Possible Outcomes – Usually called success and failure.\n",
        "\n",
        "* Constant Probability of Success (p) – The chance of success remains the same for every trial.\n",
        "\n",
        "* Independent Trials – The result of one trial does not affect the others.\n",
        "\n",
        "**Uses in Probability and Statistics:**\n",
        "\n",
        "* Quality Control: Checking the number of defective products in a batch.\n",
        "\n",
        "* Survey Results: Probability of a certain number of people agreeing in a poll.\n",
        "\n",
        "* Medical Trials: Probability of a drug being effective for a given number of patients.\n",
        "\n",
        "* Sports: Probability of a player scoring a certain number of goals in fixed attempts."
      ],
      "metadata": {
        "id": "w6IVKGjFAq4S"
      }
    },
    {
      "cell_type": "markdown",
      "source": [
        "# **Question 5:** What is the standard normal distribution, and why is it important?"
      ],
      "metadata": {
        "id": "sMXioLLKAq1q"
      }
    },
    {
      "cell_type": "markdown",
      "source": [
        "**Definition and Importance**\n",
        "\n",
        "* The standard normal distribution is a special case of the normal distribution (bell curve) where:\n",
        "\n",
        "  * The mean (𝜇) = 0\n",
        "\n",
        "  * The standard deviation (𝜎) = 1\n",
        "\n",
        "* It is symmetric about the mean, meaning data is evenly distributed on both sides.\n",
        "\n",
        "**Key Features:**\n",
        "\n",
        "* Shape – Bell-shaped and symmetric.\n",
        "\n",
        "* Mean = 0, Standard Deviation = 1 – Values are expressed in z-scores, which indicate how many standard deviations a value is from the mean.\n",
        "\n",
        "* Total Area Under the Curve – Equals 1 (representing 100% probability).\n",
        "\n",
        "**Why It’s Important:**\n",
        "\n",
        "* Basis for Statistical Methods – Many statistical tests (like z-tests) use the standard normal distribution.\n",
        "\n",
        "* Easier Calculations – Any normal distribution can be converted to a standard normal distribution using z-transformation:\n",
        "\n",
        "  * 𝑧 = 𝑥−𝜇/𝜎\n",
        "\n",
        "* Probability Predictions – Helps calculate probabilities for data points without dealing with different scales.\n",
        "\n",
        "* Common in Nature and Business – Many natural and business processes (heights, exam scores, measurement errors) approximate a normal distribution.\n",
        "\n",
        "**Example:**\n",
        "\n",
        "* If test scores have a mean of 70 and a standard deviation of 10, a score of 85 has a z-score:\n",
        "\n",
        "  * 𝑧 = 85 - 70/10 = 1.5\n",
        "\n",
        "* Looking up 𝑧 =1.5 in a standard normal table tells you the probability of scoring below 85 is about 93.32%."
      ],
      "metadata": {
        "id": "s98X2TP9AqzQ"
      }
    },
    {
      "cell_type": "markdown",
      "source": [
        "# **Question 6:** What is the Central Limit Theorem (CLT), and why is it critical in statistics?"
      ],
      "metadata": {
        "id": "asbAM8ivKYdD"
      }
    },
    {
      "cell_type": "markdown",
      "source": [
        "**Definition and Importance**\n",
        "\n",
        "* The Central Limit Theorem (CLT) is a fundamental concept in statistics that explains how the sampling distribution of a statistic (usually the mean) behaves when you take repeated samples from a population.\n",
        "\n",
        "**Definition:**\n",
        "\n",
        "* The CLT states that:\n",
        "\n",
        "* If you take a large number of random samples from any population (with finite mean and variance), the distribution of the sample means will tend to be normal (bell-shaped) — regardless of the shape of the original population — as the sample size becomes large enough.\n",
        "\n",
        "**Key Points of CLT:**\n",
        "\n",
        "* The sample size should be sufficiently large (n ≥ 30 is a common rule of thumb).\n",
        "\n",
        "* The mean of the sampling distribution will be approximately equal to the population mean (𝜇).\n",
        "\n",
        "* The standard deviation of the sampling distribution (called the standard error) is:\n",
        "\n",
        "  * SE = 𝜎/ √𝑛​\n",
        "\n",
        "Where:\n",
        "\n",
        "𝜎 = population standard deviation\n",
        "\n",
        "𝑛 = sample size\n",
        "\n",
        "**Why CLT Is Important:**\n",
        "\n",
        "* Foundation for Inferential Statistics – Allows us to make probability-based conclusions about population means using sample data.\n",
        "\n",
        "* Justifies Normal Approximation – Many statistical tests (z-tests, t-tests, confidence intervals) rely on the assumption of normality, which CLT makes valid.\n",
        "\n",
        "* Works for Any Population Shape – Even if the population is skewed or irregular, the sampling distribution of the mean will still be approximately normal for large 𝑛.\n",
        "\n",
        "**Example:**\n",
        "\n",
        "* Suppose the population of daily sales in a store is not normally distributed. If we take repeated samples of size 50 and calculate their means, the distribution of those means will be approximately normal. This lets us use normal probability theory to answer questions like,\n",
        "\n",
        "* “What’s the probability the average sales exceed ₹5,000?”"
      ],
      "metadata": {
        "id": "nT6hKxm3KYXL"
      }
    },
    {
      "cell_type": "markdown",
      "source": [
        "# **Question 7:** What is the significance of confidence intervals in statistical analysis?"
      ],
      "metadata": {
        "id": "r7Xyj0mwP5ut"
      }
    },
    {
      "cell_type": "markdown",
      "source": [
        "**Significance in Statistical Analysis**\n",
        "\n",
        "* A confidence interval (CI) is a range of values, derived from sample data, that is likely to contain the true population parameter (such as the mean or proportion) with a certain level of confidence.\n",
        "\n",
        "**Definition:**\n",
        "\n",
        "* A 95% confidence interval, for example, means:\n",
        "\n",
        "* If we repeated the sampling process many times, about 95% of the calculated intervals would contain the true population value.\n",
        "\n",
        "* It does not mean there’s a 95% probability that the specific interval you calculated contains the parameter — the parameter is fixed; the interval is random.\n",
        "\n",
        "**Significance in Statistics:**\n",
        "\n",
        "* Estimation Precision – CI shows how precise your estimate is. A narrower interval means a more precise estimate.\n",
        "\n",
        "* Uncertainty Representation – Instead of giving just a single value (point estimate), it communicates the range of plausible values.\n",
        "\n",
        "* Decision Making – If a CI for a difference in means does not include 0, it suggests a statistically significant difference.\n",
        "\n",
        "* Practical Relevance – Helps in risk assessment, quality control, and policy decisions by showing variability in estimates.\n",
        "\n",
        "**Example:**\n",
        "\n",
        "* If the average customer satisfaction score in a sample is 8.2 with a 95% CI of (7.8, 8.6), we can say:\n",
        "\n",
        "* We are 95% confident the true average satisfaction score in the population is between 7.8 and 8.6."
      ],
      "metadata": {
        "id": "TqqRD0aoP4_6"
      }
    },
    {
      "cell_type": "markdown",
      "source": [
        "# **Question 8:** What is the concept of expected value in a probability distribution?"
      ],
      "metadata": {
        "id": "eVpEWb4SP48T"
      }
    },
    {
      "cell_type": "markdown",
      "source": [
        "**Expected Value – Concept in Probability Distribution**\n",
        "\n",
        "* The expected value (EV) is the long-run average of a random variable — the value you would expect to get on average if you repeated an experiment an infinite number of times.\n",
        "\n",
        "* It represents the weighted average of all possible outcomes, where each outcome is multiplied by its probability of occurring.\n",
        "\n",
        "  * It’s like asking, “If this event happened over and over, what result would I get on average?”\n",
        "\n",
        "**How It Works:**\n",
        "\n",
        "* List all possible outcomes.\n",
        "\n",
        "* Think about how likely each one is.\n",
        "\n",
        "* Multiply each outcome by how likely it is to happen.\n",
        "\n",
        "* Add those results together — that’s the expected value.\n",
        "\n",
        "**Why It’s Important:**\n",
        "\n",
        "* Predicts the long-term result of repeated events.\n",
        "\n",
        "* Helps in making decisions where outcomes are uncertain.\n",
        "\n",
        "* Used in finance, gambling, and business to estimate profits or losses over time.\n",
        "\n",
        "**Example – Rolling a Dice:**\n",
        "\n",
        "* If you roll a fair 6-sided dice, the results could be 1, 2, 3, 4, 5, or 6.\n",
        "* Some rolls will be low, some high, but over many rolls, the average result will be around 3.5.\n",
        "\n",
        "**Example – Investment Case:**\n",
        "\n",
        "* An investor can either:\n",
        "\n",
        "  * Gain ₹10,000 (40% chance)\n",
        "\n",
        "  * Lose ₹5,000 (60% chance)\n",
        "\n",
        "* If the investor repeated this many times, the average profit per investment would be ₹1,000."
      ],
      "metadata": {
        "id": "lAYF7GkOQw3j"
      }
    },
    {
      "cell_type": "markdown",
      "source": [
        "# **Question 9:** Write a Python program to generate 1000 random numbers from a normal distribution with mean = 50 and standard deviation = 5.\n",
        "* Compute its mean and standard deviation using NumPy, and draw a histogram to visualize the distribution."
      ],
      "metadata": {
        "id": "lcJS2QWZQwyz"
      }
    },
    {
      "cell_type": "code",
      "execution_count": 1,
      "metadata": {
        "colab": {
          "base_uri": "https://localhost:8080/",
          "height": 507
        },
        "id": "zQ4IzrIlAmlc",
        "outputId": "4169e665-8a16-449e-d58e-7fa0ba54d8e9"
      },
      "outputs": [
        {
          "output_type": "stream",
          "name": "stdout",
          "text": [
            "Calculated Mean: 50.092332146742734\n",
            "Calculated Standard Deviation: 5.027039087343118\n"
          ]
        },
        {
          "output_type": "display_data",
          "data": {
            "text/plain": [
              "<Figure size 640x480 with 1 Axes>"
            ],
            "image/png": "[encoded data removed]"
          },
          "metadata": {}
        }
      ],
      "source": [
        "import numpy as np\n",
        "import matplotlib.pyplot as plt\n",
        "\n",
        "# Step 1: Generate 1000 random numbers from a normal distribution\n",
        "mean = 50\n",
        "std_dev = 5\n",
        "size = 1000\n",
        "data = np.random.normal(mean, std_dev, size)\n",
        "\n",
        "# Step 2: Compute mean and standard deviation\n",
        "calculated_mean = np.mean(data)\n",
        "calculated_std = np.std(data)\n",
        "\n",
        "print(f\"Calculated Mean: {calculated_mean}\")\n",
        "print(f\"Calculated Standard Deviation: {calculated_std}\")\n",
        "\n",
        "# Step 3: Draw a histogram\n",
        "plt.hist(data, bins=30, color='skyblue', edgecolor='black')\n",
        "plt.title(\"Histogram of Normally Distributed Data\")\n",
        "plt.xlabel(\"Value\")\n",
        "plt.ylabel(\"Frequency\")\n",
        "plt.axvline(calculated_mean, color='red', linestyle='dashed', linewidth=2, label=f\"Mean: {calculated_mean:.2f}\")\n",
        "plt.legend()\n",
        "plt.show()"
      ]
    },
    {
      "cell_type": "markdown",
      "source": [
        "# **Question 10:** You are working as a data analyst for a retail company. The company has collected daily sales data for 2 years and wants you to identify the overall sales trend.\n",
        "\n",
        "● daily_sales = [220, 245, 210, 265, 230, 250, 260, 275, 240, 255,\n",
        "235, 260, 245, 250, 225, 270, 265, 255, 250, 260]\n",
        "\n",
        "● Explain how you would apply the Central Limit Theorem to estimate the average sales with a 95% confidence interval.\n",
        "\n",
        "● Write the Python code to compute the mean sales and its confidence interval."
      ],
      "metadata": {
        "id": "ux3TxXPYSAlO"
      }
    },
    {
      "cell_type": "markdown",
      "source": [
        "* The Central Limit Theorem (CLT) says that if we take repeated random samples from a population and calculate their means, these sample means will follow a normal distribution (even if the original data isn’t perfectly normal), especially when the sample size is large.\n",
        "\n",
        "* To estimate the average daily sales with a 95% confidence interval:\n",
        "\n",
        "**Calculate the mean of the sales data.**\n",
        "\n",
        "* Find the standard error — the standard deviation of the sample means (which is the sample standard deviation divided by the square root of the sample size).\n",
        "\n",
        "* Use the 95% confidence level (which corresponds to roughly 1.96 standard errors above and below the mean for a normal distribution) to calculate the lower and upper limits of the confidence interval.\n",
        "\n",
        "* This gives us a range in which the true average sales for the whole population are likely to fall."
      ],
      "metadata": {
        "id": "dbQoL90tSbEr"
      }
    },
    {
      "cell_type": "code",
      "source": [
        "import numpy as np\n",
        "import scipy.stats as stats\n",
        "\n",
        "# Sales data\n",
        "daily_sales = [220, 245, 210, 265, 230, 250, 260, 275, 240, 255,\n",
        "               235, 260, 245, 250, 225, 270, 265, 255, 250, 260]\n",
        "\n",
        "# Step 1: Calculate the mean\n",
        "mean_sales = np.mean(daily_sales)\n",
        "\n",
        "# Step 2: Calculate the standard error\n",
        "std_error = np.std(daily_sales, ddof=1) / np.sqrt(len(daily_sales))\n",
        "\n",
        "# Step 3: Confidence interval for 95%\n",
        "confidence_level = 0.95\n",
        "degrees_freedom = len(daily_sales) - 1\n",
        "t_critical = stats.t.ppf((1 + confidence_level) / 2, degrees_freedom)\n",
        "\n",
        "margin_of_error = t_critical * std_error\n",
        "lower_bound = mean_sales - margin_of_error\n",
        "upper_bound = mean_sales + margin_of_error\n",
        "\n",
        "# Output\n",
        "print(f\"Mean Sales: {mean_sales:.2f}\")\n",
        "print(f\"95% Confidence Interval: ({lower_bound:.2f}, {upper_bound:.2f})\")"
      ],
      "metadata": {
        "colab": {
          "base_uri": "https://localhost:8080/"
        },
        "id": "YvEZIkGzR1jo",
        "outputId": "88425b5e-50f9-4be5-811a-2f2c4eff56b4"
      },
      "execution_count": 2,
      "outputs": [
        {
          "output_type": "stream",
          "name": "stdout",
          "text": [
            "Mean Sales: 248.25\n",
            "95% Confidence Interval: (240.17, 256.33)\n"
          ]
        }
      ]
    },
    {
      "cell_type": "code",
      "source": [],
      "metadata": {
        "id": "3z9oK1OASwUG"
      },
      "execution_count": null,
      "outputs": []
    }
  ]
}